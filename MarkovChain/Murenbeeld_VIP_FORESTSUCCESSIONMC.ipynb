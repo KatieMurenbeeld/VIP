{
 "cells": [
  {
   "cell_type": "markdown",
   "metadata": {},
   "source": [
    "## VIP Spring 2019: A Simple Markov Chain\n",
    "### Author: Katie Murenbeeld\n",
    "### Date: 3 May 2019\n",
    "\n",
    "In the Spring of 2019 the VIP Computing Across Campus read The Model Thinker by Scott Page. Within most chapters of the book, Page briefly describes different types of models ranging from normal distributions and linear models to random walks, system dynamics, and Markov models. \n",
    "\n",
    "Markov Chains (models) represent a system that has a probability of transitioning between different states. In this notebook, I created a simple Markov Chain model of forest succession with a variable \"cut rate\" to represent the persentage of trees that could be harvested.\n",
    "\n",
    "The code for this project was inspired by and modified from https://www.datacamp.com/community/tutorials/markov-chains-python-tutorial\n"
   ]
  },
  {
   "cell_type": "markdown",
   "metadata": {},
   "source": [
    "### State Diagram of Forest Succession\n",
    "\n",
    "<img src=\"forest-succession-mc03.png\">"
   ]
  },
  {
   "cell_type": "markdown",
   "metadata": {},
   "source": [
    "In this example a middle or late successional forest has x probability of being clear cut to bare ground. Old growth forests are protected and are not allowed to be cut. Late successional forests are assumed to take many years to be considered \"Old Growth\" so only 10% of Late Successional forests will become Old Growth. From the figure above, it is helpful to create a transition matrix. \n",
    "\n",
    "<img src=\"transition-matrix.png\">"
   ]
  },
  {
   "cell_type": "markdown",
   "metadata": {},
   "source": [
    "All of the rows need to add up to 1 in order for the code to run. We will double check this in the code before we run the model."
   ]
  },
  {
   "cell_type": "markdown",
   "metadata": {},
   "source": [
    "### Import Libraries\n",
    "\n",
    "For this model we only need to bring in the numpy library."
   ]
  },
  {
   "cell_type": "code",
   "execution_count": 2,
   "metadata": {},
   "outputs": [],
   "source": [
    "import numpy as np"
   ]
  },
  {
   "cell_type": "markdown",
   "metadata": {},
   "source": [
    "### Create the state space, the transition matrix, and set the cut rate."
   ]
  },
  {
   "cell_type": "code",
   "execution_count": 4,
   "metadata": {},
   "outputs": [],
   "source": [
    "states = [\"LSOG\", \"LS\", \"MS\", \"ES\", \"BG\"]\n",
    "\n",
    "transitionName = [[\"LSOGLSOG\",\"LSOGLS\",\"LSOGMS\",\"LSOGES\",\"LSOGBG\"],[\"LSLSOG\",\"LSLS\",\"LSMS\",\"LSES\",\"LSBG\"],[\"MSLSOG\",\"MSLS\",\"MSMS\",\"MSES\",\"MSBG\"],[\"ESLSOG\",\"ESLS\",\"ESMS\",\"ESES\",\"ESBG\"],[\"BGLSOG\",\"BGLS\",\"BGMS\",\"BGES\",\"BGBG\"]]\n",
    "\n",
    "cutrate = 0.05 # To begin with we will set a 5% cut rate.\n",
    "\n",
    "transitionMatrix = [[1,0,0,0,0],[0.1,((1-cutrate)-0.1),0,0,cutrate],[0,(1-cutrate),0,0,cutrate],[0,0,1,0,0],[0,0,0,1,0]]"
   ]
  },
  {
   "cell_type": "code",
   "execution_count": 5,
   "metadata": {},
   "outputs": [
    {
     "name": "stdout",
     "output_type": "stream",
     "text": [
      "All is going okay, you can move on!!\n"
     ]
    }
   ],
   "source": [
    "# Here we will check the transition matrix to make sure that all rows add up to 1\n",
    "\n",
    "if sum(transitionMatrix[0])+sum(transitionMatrix[1])+sum(transitionMatrix[2])+sum(transitionMatrix[3])+sum(transitionMatrix[4]) != 5:\n",
    "    print(\"Something, somewhere went wrong. Transition matrix, maybe?\")\n",
    "else: print(\"All is going okay, you can move on!!\")"
   ]
  },
  {
   "cell_type": "markdown",
   "metadata": {},
   "source": [
    "### Create the function to implement the Markov Chain to forecast the forest state\n",
    "\n",
    "The function used to implement the Markov Chain uses a while loop, if, elif (else if), and else commands. We will also use the numpy.random.choice in order to create a random sample from the possible transitions. The \"p\" in the random.choice allows you to set the probability distribution for the set, which for us is the desired row of the transitionMatrix."
   ]
  },
  {
   "cell_type": "code",
   "execution_count": 10,
   "metadata": {},
   "outputs": [],
   "source": [
    "def state_forecast(years):\n",
    "    # Choose the starting state\n",
    "    stateToday = \"BG\"\n",
    "    #print (\"Start state:\" + stateToday)\n",
    "    #Store the sequence of states taken.\n",
    "    stateList = [stateToday]\n",
    "    i = 0\n",
    "    # To calculate the probability of the activity list\n",
    "    prob = 1\n",
    "    while i != years:\n",
    "        if stateToday == \"LSOG\":\n",
    "            change = np.random.choice(transitionName[0],replace=True,p=transitionMatrix[0])\n",
    "            if change == \"LSOGLSOG\":\n",
    "                prob = prob\n",
    "                stateList.append(\"LSOG\")\n",
    "                pass\n",
    "            elif change == \"LSOGLS\":\n",
    "                prob = 0\n",
    "                stateList.append(\"LS\")\n",
    "            elif change == \"LSOGMS\":\n",
    "                prob = 0\n",
    "                stateList.append(\"LSOG\")\n",
    "            elif change == \"LSOGES\":\n",
    "                prob = 0\n",
    "                stateList.append(\"LS\")\n",
    "            else:\n",
    "                change == \"BLSOGG\"\n",
    "                prob = 0\n",
    "                stateToday = \"BG\"\n",
    "                stateList.append(\"LSOG\")\n",
    "        elif stateToday == \"LS\":\n",
    "            change = np.random.choice(transitionName[1],replace=True,p=transitionMatrix[1])\n",
    "            if change == \"LSLSOG\":\n",
    "                prob = prob * 0.1\n",
    "                stateToday = \"LSOG\"\n",
    "                stateList.append(\"LSOG\")\n",
    "            elif change == \"LSLS\":\n",
    "                prob = prob * ((1-cutrate)-0.1)\n",
    "                stateList.append(\"LS\")\n",
    "            elif change == \"LSMS\":\n",
    "                prob = 0\n",
    "                stateList.append(\"LS\")\n",
    "            elif change == \"LMES\":\n",
    "                prob = 0\n",
    "                stateList.append(\"LS\")\n",
    "            else:\n",
    "                change == \"LSBG\"\n",
    "                prob = cutrate\n",
    "                stateToday = \"BG\"\n",
    "                stateList.append(\"BG\")\n",
    "        elif stateToday == \"MS\":\n",
    "            change = np.random.choice(transitionName[2],replace=True,p=transitionMatrix[2])\n",
    "            if change == \"MSLSOG\":\n",
    "                prob = 0\n",
    "                stateList.append(\"MS\")\n",
    "            elif change == \"MSLS\":\n",
    "                prob = prob * (1-cutrate)\n",
    "                stateToday = \"LS\"\n",
    "                stateList.append(\"LS\")\n",
    "            elif change == \"MSMS\":\n",
    "                prob = 0 \n",
    "                stateList.append(\"MS\")\n",
    "            elif change == \"MSES\":\n",
    "                prob = 0\n",
    "                stateList.append(\"MS\")\n",
    "            else:\n",
    "                change == \"MSBG\"\n",
    "                prob = prob * cutrate\n",
    "                stateToday = \"BG\"\n",
    "                stateList.append(\"BG\")\n",
    "        elif stateToday == \"ES\":\n",
    "            change = np.random.choice(transitionName[3],replace=True,p=transitionMatrix[3])\n",
    "            if change == \"ESLSOG\":\n",
    "                prob = 0\n",
    "                stateList.append(\"ES\")\n",
    "            elif change == \"ESLS\":\n",
    "                prob = 0\n",
    "                stateList.append(\"ES\")\n",
    "            elif change == \"ESMS\":\n",
    "                prob = prob\n",
    "                stateToday = \"MS\"\n",
    "                stateList.append(\"MS\")\n",
    "            elif change == \"ESES\":\n",
    "                prob = 0\n",
    "                stateList.append(\"ES\")\n",
    "            else: \n",
    "                change = \"ESBG\"\n",
    "                prob = 0\n",
    "                stateList.append(\"ES\")\n",
    "        elif stateToday == \"BG\":\n",
    "            change = np.random.choice(transitionName[4],replace=True,p=transitionMatrix[4])\n",
    "            if change == \"BGLSOG\":\n",
    "                prob = 0 \n",
    "                stateList.append(\"BG\")\n",
    "            elif change == \"BGLS\":\n",
    "                prob = 0\n",
    "                stateList.append(\"BG\")\n",
    "            elif change == \"BGMS\":\n",
    "                prob = 0\n",
    "                stateList.append(\"BG\")\n",
    "            elif change == \"BGES\":\n",
    "                prob = prob\n",
    "                stateToday = \"ES\"\n",
    "                stateList.append(\"ES\")\n",
    "            else:\n",
    "                change == \"BGBG\"\n",
    "                prob = 0 \n",
    "                stateList.append(\"BG\")\n",
    "                    \n",
    "        i += 1\n",
    "        \n",
    "    return stateList\n"
   ]
  },
  {
   "cell_type": "markdown",
   "metadata": {},
   "source": [
    "### Create a state list for every state.  \n",
    "\n",
    "From that we will be able to calculate the probability of a specific state (in this example LS-OG) being reached when starting from a specific state (in this example BG). The code above could be adjusted to start from any state, and the code below can be adjusted to calculate the probability for any ending state."
   ]
  },
  {
   "cell_type": "code",
   "execution_count": 11,
   "metadata": {},
   "outputs": [
    {
     "name": "stdout",
     "output_type": "stream",
     "text": [
      "The probability of starting at Bare Ground and ending at state Late Succession/Old Growth with a cut rate of 0.05 = 40.0%\n"
     ]
    }
   ],
   "source": [
    "# To save every stateList\n",
    "\n",
    "list_state = []\n",
    "count = 0\n",
    "\n",
    "# 'Range' starts from the first count up until but excluding the last count. \n",
    "# This allows us to run the Markov Chain for a set number of \"years\".\n",
    "\n",
    "for iterations in range(1,10):\n",
    "    list_state.append(state_forecast(10))\n",
    "    \n",
    "# Check all the 'stateList' collected\n",
    "#print(list_state)\n",
    "\n",
    "# Iterate through the list to get a count of all years ending in state LSOG\n",
    "\n",
    "for smaller_list in list_state:\n",
    "    if(smaller_list[10] == \"LSOG\"):\n",
    "        count += 1\n",
    "\n",
    "# Calculate the probability of starting from state: BG and ending at state LSOG\n",
    "\n",
    "percentage = (count/10) * 100\n",
    "\n",
    "print(\"The probability of starting at Bare Ground and ending at state Late Succession/Old Growth with a cut rate of \" + str(cutrate) +  \" = \" + str(percentage) + \"%\")\n"
   ]
  },
  {
   "cell_type": "markdown",
   "metadata": {},
   "source": [
    "## Congratulations!\n",
    "\n",
    "You have successfully run a simple Markov Chain. There are many ways to adjust or amend this code. For example, you could create a \"for loop\" to run the code through various cut rates (for example increasing the cut rate incrementally from 0.05 to 0.5) or by varying the number of \"years\" that you run the model.  \n",
    "\n",
    "I hope that this code will inspire you to create a Markov Chain if it is applicable to your research.\n",
    "\n",
    "While a Markov Chain may not be useful for the Story Collider project, I think that any practice coding with while loops and if, elif, and else statements will be helpful. Those statements could be helpful with calling and sorting the text strings from the transcribed stories."
   ]
  },
  {
   "cell_type": "code",
   "execution_count": null,
   "metadata": {},
   "outputs": [],
   "source": []
  }
 ],
 "metadata": {
  "kernelspec": {
   "display_name": "Python 3",
   "language": "python",
   "name": "python3"
  },
  "language_info": {
   "codemirror_mode": {
    "name": "ipython",
    "version": 3
   },
   "file_extension": ".py",
   "mimetype": "text/x-python",
   "name": "python",
   "nbconvert_exporter": "python",
   "pygments_lexer": "ipython3",
   "version": "3.6.5"
  }
 },
 "nbformat": 4,
 "nbformat_minor": 2
}
